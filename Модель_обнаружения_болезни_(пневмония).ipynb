{
  "cells": [
    {
      "cell_type": "markdown",
      "metadata": {
        "id": "apk45uj2fGer"
      },
      "source": [
        "Задача -  используя датасет Chest X-Ray Images (Pneumonia), необходимо обучить модель на обнаружение болезни, а также реализовать интерфейс с возможностью загрузки и обработки пользовательских снимков\n"
      ]
    },
    {
      "cell_type": "code",
      "execution_count": null,
      "metadata": {
        "colab": {
          "base_uri": "https://localhost:8080/"
        },
        "collapsed": true,
        "id": "XpGaRmTgJtMg",
        "outputId": "4e6d3f71-809d-49b2-9770-4cbfca0d4a40"
      },
      "outputs": [],
      "source": [
        "!pip install gradio"
      ]
    },
    {
      "cell_type": "code",
      "execution_count": null,
      "metadata": {
        "id": "El4o9_QWeq78"
      },
      "outputs": [],
      "source": [
        "import os\n",
        "import tensorflow as tf\n",
        "from tensorflow.keras.applications import EfficientNetB0\n",
        "from tensorflow.keras.preprocessing.image import ImageDataGenerator\n",
        "from tensorflow.keras.models import Sequential, Model\n",
        "from tensorflow.keras.layers import Conv2D, MaxPooling2D, Flatten, Dense, Dropout, GlobalAveragePooling2D\n",
        "from tensorflow.keras.optimizers import Adam\n",
        "import numpy as np\n",
        "import gradio as gr\n",
        "from PIL import Image\n",
        "import gdown"
      ]
    },
    {
      "cell_type": "code",
      "execution_count": null,
      "metadata": {
        "colab": {
          "base_uri": "https://localhost:8080/",
          "height": 36
        },
        "collapsed": true,
        "id": "JfU-b3d2LAa-",
        "outputId": "4c2463f6-8cd7-4c6c-e3ec-763632a8328e"
      },
      "outputs": [
        {
          "data": {
            "application/vnd.google.colaboratory.intrinsic+json": {
              "type": "string"
            },
            "text/plain": [
              "'Chest X-Ray Images (Pneumonia).zip'"
            ]
          },
          "execution_count": 3,
          "metadata": {},
          "output_type": "execute_result"
        }
      ],
      "source": [
        "gdown.download('https://drive.google.com/uc?export=download&id=15xVUr7waUu7fwDKErsIZQDRCvml1FX86', None, quiet=True)"
      ]
    },
    {
      "cell_type": "code",
      "execution_count": null,
      "metadata": {
        "id": "1SYp1H6lMqwW"
      },
      "outputs": [],
      "source": [
        "!unzip -qo \"Chest X-Ray Images (Pneumonia)\""
      ]
    },
    {
      "cell_type": "code",
      "execution_count": null,
      "metadata": {
        "id": "iQlKHrDrJZq4"
      },
      "outputs": [],
      "source": [
        "dataset_dir = \"/content/chest_xray\""
      ]
    },
    {
      "cell_type": "code",
      "execution_count": null,
      "metadata": {
        "id": "rVtnU4ZNJcS-"
      },
      "outputs": [],
      "source": [
        "# Размер изображений и параметры обучения\n",
        "img_size = (224, 224)\n",
        "batch_size = 32\n",
        "epochs = 10\n",
        "learning_rate = 0.0001"
      ]
    },
    {
      "cell_type": "code",
      "execution_count": null,
      "metadata": {
        "id": "5Ji7voVRJcie"
      },
      "outputs": [],
      "source": [
        "# Генератор данных с меньшей аугментацией\n",
        "train_datagen = ImageDataGenerator(\n",
        "    rescale=1.0 / 255,\n",
        "    rotation_range=10,\n",
        "    width_shift_range=0.1,\n",
        "    height_shift_range=0.1,\n",
        "    horizontal_flip=True\n",
        ")\n",
        "val_test_datagen = ImageDataGenerator(rescale=1.0 / 255)"
      ]
    },
    {
      "cell_type": "code",
      "execution_count": null,
      "metadata": {
        "colab": {
          "base_uri": "https://localhost:8080/"
        },
        "id": "uFNNusIXJd0i",
        "outputId": "83ea293d-454a-4bd4-e1a1-0960ea647f43"
      },
      "outputs": [
        {
          "name": "stdout",
          "output_type": "stream",
          "text": [
            "Found 5216 images belonging to 2 classes.\n",
            "Found 16 images belonging to 2 classes.\n"
          ]
        }
      ],
      "source": [
        "train_data = train_datagen.flow_from_directory(\n",
        "    os.path.join(dataset_dir, \"train\"),\n",
        "    target_size=img_size,\n",
        "    batch_size=batch_size,\n",
        "    class_mode=\"binary\"\n",
        ")\n",
        "val_data = val_test_datagen.flow_from_directory(\n",
        "    os.path.join(dataset_dir, \"val\"),\n",
        "    target_size=img_size,\n",
        "    batch_size=batch_size,\n",
        "    class_mode=\"binary\"\n",
        ")\n"
      ]
    },
    {
      "cell_type": "code",
      "execution_count": null,
      "metadata": {
        "colab": {
          "base_uri": "https://localhost:8080/"
        },
        "id": "8HUPUcnJmFOy",
        "outputId": "57978931-62cc-4871-ab5b-5345c5bca27b"
      },
      "outputs": [
        {
          "name": "stdout",
          "output_type": "stream",
          "text": [
            "Found 624 images belonging to 2 classes.\n"
          ]
        }
      ],
      "source": [
        "test_data = val_test_datagen.flow_from_directory(\n",
        "    os.path.join(dataset_dir, \"test\"),\n",
        "    target_size=img_size,\n",
        "    batch_size=batch_size,\n",
        "    class_mode=\"binary\",\n",
        "    shuffle=False\n",
        ")"
      ]
    },
    {
      "cell_type": "code",
      "execution_count": null,
      "metadata": {
        "colab": {
          "base_uri": "https://localhost:8080/"
        },
        "id": "tA-WJMr6UVsJ",
        "outputId": "ddfde36e-141e-4ca3-906c-7b841c687194"
      },
      "outputs": [
        {
          "name": "stdout",
          "output_type": "stream",
          "text": [
            "Downloading data from https://storage.googleapis.com/tensorflow/keras-applications/mobilenet_v2/mobilenet_v2_weights_tf_dim_ordering_tf_kernels_1.0_224_no_top.h5\n",
            "\u001b[1m9406464/9406464\u001b[0m \u001b[32m━━━━━━━━━━━━━━━━━━━━\u001b[0m\u001b[37m\u001b[0m \u001b[1m1s\u001b[0m 0us/step\n"
          ]
        }
      ],
      "source": [
        "# Упрощенная модель с MobileNetV2\n",
        "base_model = tf.keras.applications.MobileNetV2(\n",
        "    weights=\"imagenet\", include_top=False, input_shape=(img_size[0], img_size[1], 3)\n",
        ")\n",
        "base_model.trainable = False"
      ]
    },
    {
      "cell_type": "code",
      "execution_count": null,
      "metadata": {
        "id": "xD5to2_jJgki"
      },
      "outputs": [],
      "source": [
        "x = base_model.output\n",
        "x = GlobalAveragePooling2D()(x)\n",
        "x = Dense(128, activation=\"relu\")(x)\n",
        "x = Dropout(0.5)(x)\n",
        "predictions = Dense(1, activation=\"sigmoid\")(x)\n",
        "\n",
        "model = Model(inputs=base_model.input, outputs=predictions)\n",
        "model.compile(\n",
        "    optimizer=tf.keras.optimizers.Adam(learning_rate=0.001),\n",
        "    loss=\"binary_crossentropy\",\n",
        "    metrics=[\"accuracy\"]\n",
        ")\n"
      ]
    },
    {
      "cell_type": "code",
      "execution_count": null,
      "metadata": {
        "colab": {
          "base_uri": "https://localhost:8080/"
        },
        "collapsed": true,
        "id": "1pdfVKvCJjN9",
        "outputId": "29e59eba-0f15-4962-9ce7-26d9888b0b46"
      },
      "outputs": [
        {
          "name": "stdout",
          "output_type": "stream",
          "text": [
            "Epoch 1/10\n"
          ]
        },
        {
          "name": "stderr",
          "output_type": "stream",
          "text": [
            "/usr/local/lib/python3.10/dist-packages/keras/src/trainers/data_adapters/py_dataset_adapter.py:122: UserWarning: Your `PyDataset` class should call `super().__init__(**kwargs)` in its constructor. `**kwargs` can include `workers`, `use_multiprocessing`, `max_queue_size`. Do not pass these arguments to `fit()`, as they will be ignored.\n",
            "  self._warn_if_super_not_called()\n"
          ]
        },
        {
          "name": "stdout",
          "output_type": "stream",
          "text": [
            "\u001b[1m163/163\u001b[0m \u001b[32m━━━━━━━━━━━━━━━━━━━━\u001b[0m\u001b[37m\u001b[0m \u001b[1m112s\u001b[0m 580ms/step - accuracy: 0.8641 - loss: 0.3020 - val_accuracy: 0.6875 - val_loss: 0.5068\n",
            "Epoch 2/10\n",
            "\u001b[1m163/163\u001b[0m \u001b[32m━━━━━━━━━━━━━━━━━━━━\u001b[0m\u001b[37m\u001b[0m \u001b[1m90s\u001b[0m 528ms/step - accuracy: 0.9462 - loss: 0.1278 - val_accuracy: 0.8750 - val_loss: 0.2766\n",
            "Epoch 3/10\n",
            "\u001b[1m163/163\u001b[0m \u001b[32m━━━━━━━━━━━━━━━━━━━━\u001b[0m\u001b[37m\u001b[0m \u001b[1m89s\u001b[0m 524ms/step - accuracy: 0.9552 - loss: 0.1137 - val_accuracy: 0.8750 - val_loss: 0.2047\n",
            "Epoch 4/10\n",
            "\u001b[1m163/163\u001b[0m \u001b[32m━━━━━━━━━━━━━━━━━━━━\u001b[0m\u001b[37m\u001b[0m \u001b[1m90s\u001b[0m 529ms/step - accuracy: 0.9609 - loss: 0.1055 - val_accuracy: 0.8125 - val_loss: 0.4046\n",
            "Epoch 5/10\n",
            "\u001b[1m163/163\u001b[0m \u001b[32m━━━━━━━━━━━━━━━━━━━━\u001b[0m\u001b[37m\u001b[0m \u001b[1m90s\u001b[0m 524ms/step - accuracy: 0.9647 - loss: 0.0919 - val_accuracy: 0.8750 - val_loss: 0.2145\n",
            "Epoch 6/10\n",
            "\u001b[1m163/163\u001b[0m \u001b[32m━━━━━━━━━━━━━━━━━━━━\u001b[0m\u001b[37m\u001b[0m \u001b[1m90s\u001b[0m 528ms/step - accuracy: 0.9622 - loss: 0.0958 - val_accuracy: 0.8750 - val_loss: 0.2028\n",
            "Epoch 7/10\n",
            "\u001b[1m163/163\u001b[0m \u001b[32m━━━━━━━━━━━━━━━━━━━━\u001b[0m\u001b[37m\u001b[0m \u001b[1m90s\u001b[0m 531ms/step - accuracy: 0.9632 - loss: 0.1038 - val_accuracy: 0.8750 - val_loss: 0.1793\n",
            "Epoch 8/10\n",
            "\u001b[1m163/163\u001b[0m \u001b[32m━━━━━━━━━━━━━━━━━━━━\u001b[0m\u001b[37m\u001b[0m \u001b[1m93s\u001b[0m 547ms/step - accuracy: 0.9673 - loss: 0.0871 - val_accuracy: 0.8750 - val_loss: 0.2168\n",
            "Epoch 9/10\n",
            "\u001b[1m163/163\u001b[0m \u001b[32m━━━━━━━━━━━━━━━━━━━━\u001b[0m\u001b[37m\u001b[0m \u001b[1m93s\u001b[0m 541ms/step - accuracy: 0.9702 - loss: 0.0780 - val_accuracy: 0.8750 - val_loss: 0.2063\n",
            "Epoch 10/10\n",
            "\u001b[1m163/163\u001b[0m \u001b[32m━━━━━━━━━━━━━━━━━━━━\u001b[0m\u001b[37m\u001b[0m \u001b[1m89s\u001b[0m 523ms/step - accuracy: 0.9659 - loss: 0.0883 - val_accuracy: 0.9375 - val_loss: 0.1381\n"
          ]
        }
      ],
      "source": [
        "# Обучение модели\n",
        "history = model.fit(\n",
        "    train_data,\n",
        "    validation_data=val_data,\n",
        "    epochs=epochs\n",
        ")"
      ]
    },
    {
      "cell_type": "code",
      "execution_count": null,
      "metadata": {
        "colab": {
          "base_uri": "https://localhost:8080/"
        },
        "id": "Jwr83ZAlJkEX",
        "outputId": "575db0ed-f2d8-4f19-9ca0-bb0c42482c81"
      },
      "outputs": [
        {
          "name": "stdout",
          "output_type": "stream",
          "text": [
            "\u001b[1m20/20\u001b[0m \u001b[32m━━━━━━━━━━━━━━━━━━━━\u001b[0m\u001b[37m\u001b[0m \u001b[1m6s\u001b[0m 192ms/step - accuracy: 0.8583 - loss: 0.3813\n",
            "Точность на тестовых данных: 89.26%\n"
          ]
        }
      ],
      "source": [
        "# Оценка на тестовых данных\n",
        "test_loss, test_accuracy = model.evaluate(test_data)\n",
        "print(f\"Точность на тестовых данных: {test_accuracy * 100:.2f}%\")"
      ]
    },
    {
      "cell_type": "code",
      "execution_count": null,
      "metadata": {
        "colab": {
          "base_uri": "https://localhost:8080/",
          "height": 646
        },
        "id": "Fa5V0H-4JnDc",
        "outputId": "64d580e6-bbfa-4d8c-e7fc-24cf41b7634a"
      },
      "outputs": [
        {
          "name": "stdout",
          "output_type": "stream",
          "text": [
            "Running Gradio in a Colab notebook requires sharing enabled. Automatically setting `share=True` (you can turn this off by setting `share=False` in `launch()` explicitly).\n",
            "\n",
            "Colab notebook detected. To show errors in colab notebook, set debug=True in launch()\n",
            "* Running on public URL: https://bd7a821f48923d184a.gradio.live\n",
            "\n",
            "This share link expires in 72 hours. For free permanent hosting and GPU upgrades, run `gradio deploy` from the terminal in the working directory to deploy to Hugging Face Spaces (https://huggingface.co/spaces)\n"
          ]
        },
        {
          "data": {
            "text/html": [
              "<div><iframe src=\"https://bd7a821f48923d184a.gradio.live\" width=\"100%\" height=\"500\" allow=\"autoplay; camera; microphone; clipboard-read; clipboard-write;\" frameborder=\"0\" allowfullscreen></iframe></div>"
            ],
            "text/plain": [
              "<IPython.core.display.HTML object>"
            ]
          },
          "metadata": {},
          "output_type": "display_data"
        },
        {
          "data": {
            "text/plain": []
          },
          "execution_count": 16,
          "metadata": {},
          "output_type": "execute_result"
        }
      ],
      "source": [
        "# Функция для предсказания\n",
        "def predict_diagnosis(image):\n",
        "    \"\"\"\n",
        "    Предсказать диагноз на основе загруженного изображения.\n",
        "    \"\"\"\n",
        "    # Преобразование изображения\n",
        "    image = image.resize(img_size)\n",
        "    image = np.array(image) / 255.0  # Нормализация\n",
        "    image = np.expand_dims(image, axis=0)  # Добавляем размерность для batch\n",
        "\n",
        "    # Предсказание\n",
        "    prediction = model.predict(image)\n",
        "    if prediction[0][0] > 0.5:\n",
        "        return \"Диагноз: Пневмония\", f\"Вероятность: {prediction[0][0]:.2f}\"\n",
        "    else:\n",
        "        return \"Диагноз: Норма\", f\"Вероятность: {1 - prediction[0][0]:.2f}\"\n",
        "\n",
        "# Интерфейс Gradio\n",
        "interface = gr.Interface(\n",
        "    fn=predict_diagnosis,\n",
        "    inputs=gr.Image(type=\"pil\", label=\"Загрузите рентгеновский снимок\"),\n",
        "    outputs=[\n",
        "        gr.Textbox(label=\"Результат\"),\n",
        "        gr.Textbox(label=\"Вероятность\")\n",
        "    ],\n",
        "    title=\"Диагностика Пневмонии\",\n",
        "    description=\"Загрузите рентгеновский снимок легких, чтобы получить диагноз (норма или пневмония).\"\n",
        ")\n",
        "\n",
        "# Запуск интерфейса\n",
        "interface.launch()"
      ]
    }
  ],
  "metadata": {
    "accelerator": "GPU",
    "colab": {
      "gpuType": "L4",
      "machine_shape": "hm",
      "provenance": []
    },
    "kernelspec": {
      "display_name": "Python 3",
      "name": "python3"
    },
    "language_info": {
      "name": "python"
    }
  },
  "nbformat": 4,
  "nbformat_minor": 0
}
